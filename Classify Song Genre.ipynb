{
 "cells": [
  {
   "cell_type": "markdown",
   "metadata": {},
   "source": [
    "## Loading data from csv files"
   ]
  },
  {
   "cell_type": "markdown",
   "metadata": {},
   "source": [
    "##### load the metadata along with metrics. Features like danceability and accousticness is also scaled from 1 to -1"
   ]
  },
  {
   "cell_type": "code",
   "execution_count": 1,
   "metadata": {},
   "outputs": [
    {
     "name": "stderr",
     "output_type": "stream",
     "text": [
      "C:\\Users\\Sadii\\Anaconda3\\lib\\importlib\\_bootstrap.py:219: RuntimeWarning: numpy.ufunc size changed, may indicate binary incompatibility. Expected 192 from C header, got 216 from PyObject\n",
      "  return f(*args, **kwds)\n",
      "C:\\Users\\Sadii\\Anaconda3\\lib\\importlib\\_bootstrap.py:219: RuntimeWarning: numpy.ufunc size changed, may indicate binary incompatibility. Expected 192 from C header, got 216 from PyObject\n",
      "  return f(*args, **kwds)\n"
     ]
    }
   ],
   "source": [
    "import pandas as pd\n",
    "\n",
    "#data (track metadata) with genre label\n",
    "tracks = pd.read_csv(\"datasets/fma-rock-vs-hiphop.csv\")\n",
    "\n",
    "#data (track metrics) with features\n",
    "echonest_metrics = pd.read_json(\"datasets/echonest-metrics.json\" , precise_float=True)\n",
    "\n"
   ]
  },
  {
   "cell_type": "code",
   "execution_count": 2,
   "metadata": {},
   "outputs": [
    {
     "data": {
      "text/html": [
       "<div>\n",
       "<style scoped>\n",
       "    .dataframe tbody tr th:only-of-type {\n",
       "        vertical-align: middle;\n",
       "    }\n",
       "\n",
       "    .dataframe tbody tr th {\n",
       "        vertical-align: top;\n",
       "    }\n",
       "\n",
       "    .dataframe thead th {\n",
       "        text-align: right;\n",
       "    }\n",
       "</style>\n",
       "<table border=\"1\" class=\"dataframe\">\n",
       "  <thead>\n",
       "    <tr style=\"text-align: right;\">\n",
       "      <th></th>\n",
       "      <th>track_id</th>\n",
       "      <th>acousticness</th>\n",
       "      <th>danceability</th>\n",
       "      <th>energy</th>\n",
       "      <th>instrumentalness</th>\n",
       "      <th>liveness</th>\n",
       "      <th>speechiness</th>\n",
       "      <th>tempo</th>\n",
       "      <th>valence</th>\n",
       "      <th>genre_top</th>\n",
       "    </tr>\n",
       "  </thead>\n",
       "  <tbody>\n",
       "    <tr>\n",
       "      <td>0</td>\n",
       "      <td>2</td>\n",
       "      <td>0.416675</td>\n",
       "      <td>0.675894</td>\n",
       "      <td>0.634476</td>\n",
       "      <td>0.010628</td>\n",
       "      <td>0.177647</td>\n",
       "      <td>0.159310</td>\n",
       "      <td>165.922</td>\n",
       "      <td>0.576661</td>\n",
       "      <td>Hip-Hop</td>\n",
       "    </tr>\n",
       "    <tr>\n",
       "      <td>1</td>\n",
       "      <td>3</td>\n",
       "      <td>0.374408</td>\n",
       "      <td>0.528643</td>\n",
       "      <td>0.817461</td>\n",
       "      <td>0.001851</td>\n",
       "      <td>0.105880</td>\n",
       "      <td>0.461818</td>\n",
       "      <td>126.957</td>\n",
       "      <td>0.269240</td>\n",
       "      <td>Hip-Hop</td>\n",
       "    </tr>\n",
       "    <tr>\n",
       "      <td>2</td>\n",
       "      <td>5</td>\n",
       "      <td>0.043567</td>\n",
       "      <td>0.745566</td>\n",
       "      <td>0.701470</td>\n",
       "      <td>0.000697</td>\n",
       "      <td>0.373143</td>\n",
       "      <td>0.124595</td>\n",
       "      <td>100.260</td>\n",
       "      <td>0.621661</td>\n",
       "      <td>Hip-Hop</td>\n",
       "    </tr>\n",
       "    <tr>\n",
       "      <td>3</td>\n",
       "      <td>134</td>\n",
       "      <td>0.452217</td>\n",
       "      <td>0.513238</td>\n",
       "      <td>0.560410</td>\n",
       "      <td>0.019443</td>\n",
       "      <td>0.096567</td>\n",
       "      <td>0.525519</td>\n",
       "      <td>114.290</td>\n",
       "      <td>0.894072</td>\n",
       "      <td>Hip-Hop</td>\n",
       "    </tr>\n",
       "    <tr>\n",
       "      <td>4</td>\n",
       "      <td>153</td>\n",
       "      <td>0.988306</td>\n",
       "      <td>0.255661</td>\n",
       "      <td>0.979774</td>\n",
       "      <td>0.973006</td>\n",
       "      <td>0.121342</td>\n",
       "      <td>0.051740</td>\n",
       "      <td>90.241</td>\n",
       "      <td>0.034018</td>\n",
       "      <td>Rock</td>\n",
       "    </tr>\n",
       "  </tbody>\n",
       "</table>\n",
       "</div>"
      ],
      "text/plain": [
       "   track_id  acousticness  danceability    energy  instrumentalness  liveness  \\\n",
       "0         2      0.416675      0.675894  0.634476          0.010628  0.177647   \n",
       "1         3      0.374408      0.528643  0.817461          0.001851  0.105880   \n",
       "2         5      0.043567      0.745566  0.701470          0.000697  0.373143   \n",
       "3       134      0.452217      0.513238  0.560410          0.019443  0.096567   \n",
       "4       153      0.988306      0.255661  0.979774          0.973006  0.121342   \n",
       "\n",
       "   speechiness    tempo   valence genre_top  \n",
       "0     0.159310  165.922  0.576661   Hip-Hop  \n",
       "1     0.461818  126.957  0.269240   Hip-Hop  \n",
       "2     0.124595  100.260  0.621661   Hip-Hop  \n",
       "3     0.525519  114.290  0.894072   Hip-Hop  \n",
       "4     0.051740   90.241  0.034018      Rock  "
      ]
     },
     "execution_count": 2,
     "metadata": {},
     "output_type": "execute_result"
    }
   ],
   "source": [
    "#merge relevant columns from tracks and metrics\n",
    "echo_tracks = echonest_metrics.merge(tracks[['genre_top','track_id']],on='track_id')\n",
    "\n",
    "echo_tracks.head()"
   ]
  },
  {
   "cell_type": "code",
   "execution_count": 3,
   "metadata": {},
   "outputs": [
    {
     "name": "stdout",
     "output_type": "stream",
     "text": [
      "<class 'pandas.core.frame.DataFrame'>\n",
      "Int64Index: 4802 entries, 0 to 4801\n",
      "Data columns (total 10 columns):\n",
      "track_id            4802 non-null int64\n",
      "acousticness        4802 non-null float64\n",
      "danceability        4802 non-null float64\n",
      "energy              4802 non-null float64\n",
      "instrumentalness    4802 non-null float64\n",
      "liveness            4802 non-null float64\n",
      "speechiness         4802 non-null float64\n",
      "tempo               4802 non-null float64\n",
      "valence             4802 non-null float64\n",
      "genre_top           4802 non-null object\n",
      "dtypes: float64(8), int64(1), object(1)\n",
      "memory usage: 412.7+ KB\n"
     ]
    }
   ],
   "source": [
    "echo_tracks.info()"
   ]
  },
  {
   "cell_type": "markdown",
   "metadata": {},
   "source": [
    "#### see correation between columns of echonest_metrics"
   ]
  },
  {
   "cell_type": "code",
   "execution_count": 4,
   "metadata": {},
   "outputs": [
    {
     "data": {
      "text/html": [
       "<style  type=\"text/css\" >\n",
       "    #T_50f0c700_ba24_11eb_b9a7_b44bd6e7356drow0_col0 {\n",
       "            background-color:  #023858;\n",
       "            color:  #f1f1f1;\n",
       "        }    #T_50f0c700_ba24_11eb_b9a7_b44bd6e7356drow0_col1 {\n",
       "            background-color:  #eae6f1;\n",
       "            color:  #000000;\n",
       "        }    #T_50f0c700_ba24_11eb_b9a7_b44bd6e7356drow0_col2 {\n",
       "            background-color:  #d2d2e7;\n",
       "            color:  #000000;\n",
       "        }    #T_50f0c700_ba24_11eb_b9a7_b44bd6e7356drow0_col3 {\n",
       "            background-color:  #9ab8d8;\n",
       "            color:  #000000;\n",
       "        }    #T_50f0c700_ba24_11eb_b9a7_b44bd6e7356drow0_col4 {\n",
       "            background-color:  #fff7fb;\n",
       "            color:  #000000;\n",
       "        }    #T_50f0c700_ba24_11eb_b9a7_b44bd6e7356drow0_col5 {\n",
       "            background-color:  #ede7f2;\n",
       "            color:  #000000;\n",
       "        }    #T_50f0c700_ba24_11eb_b9a7_b44bd6e7356drow0_col6 {\n",
       "            background-color:  #eee8f3;\n",
       "            color:  #000000;\n",
       "        }    #T_50f0c700_ba24_11eb_b9a7_b44bd6e7356drow0_col7 {\n",
       "            background-color:  #f0eaf4;\n",
       "            color:  #000000;\n",
       "        }    #T_50f0c700_ba24_11eb_b9a7_b44bd6e7356drow0_col8 {\n",
       "            background-color:  #e8e4f0;\n",
       "            color:  #000000;\n",
       "        }    #T_50f0c700_ba24_11eb_b9a7_b44bd6e7356drow1_col0 {\n",
       "            background-color:  #fff7fb;\n",
       "            color:  #000000;\n",
       "        }    #T_50f0c700_ba24_11eb_b9a7_b44bd6e7356drow1_col1 {\n",
       "            background-color:  #023858;\n",
       "            color:  #f1f1f1;\n",
       "        }    #T_50f0c700_ba24_11eb_b9a7_b44bd6e7356drow1_col2 {\n",
       "            background-color:  #fff7fb;\n",
       "            color:  #000000;\n",
       "        }    #T_50f0c700_ba24_11eb_b9a7_b44bd6e7356drow1_col3 {\n",
       "            background-color:  #fff7fb;\n",
       "            color:  #000000;\n",
       "        }    #T_50f0c700_ba24_11eb_b9a7_b44bd6e7356drow1_col4 {\n",
       "            background-color:  #bdc8e1;\n",
       "            color:  #000000;\n",
       "        }    #T_50f0c700_ba24_11eb_b9a7_b44bd6e7356drow1_col5 {\n",
       "            background-color:  #e4e1ef;\n",
       "            color:  #000000;\n",
       "        }    #T_50f0c700_ba24_11eb_b9a7_b44bd6e7356drow1_col6 {\n",
       "            background-color:  #d9d8ea;\n",
       "            color:  #000000;\n",
       "        }    #T_50f0c700_ba24_11eb_b9a7_b44bd6e7356drow1_col7 {\n",
       "            background-color:  #fff7fb;\n",
       "            color:  #000000;\n",
       "        }    #T_50f0c700_ba24_11eb_b9a7_b44bd6e7356drow1_col8 {\n",
       "            background-color:  #f7f0f7;\n",
       "            color:  #000000;\n",
       "        }    #T_50f0c700_ba24_11eb_b9a7_b44bd6e7356drow2_col0 {\n",
       "            background-color:  #c0c9e2;\n",
       "            color:  #000000;\n",
       "        }    #T_50f0c700_ba24_11eb_b9a7_b44bd6e7356drow2_col1 {\n",
       "            background-color:  #dddbec;\n",
       "            color:  #000000;\n",
       "        }    #T_50f0c700_ba24_11eb_b9a7_b44bd6e7356drow2_col2 {\n",
       "            background-color:  #023858;\n",
       "            color:  #f1f1f1;\n",
       "        }    #T_50f0c700_ba24_11eb_b9a7_b44bd6e7356drow2_col3 {\n",
       "            background-color:  #adc1dd;\n",
       "            color:  #000000;\n",
       "        }    #T_50f0c700_ba24_11eb_b9a7_b44bd6e7356drow2_col4 {\n",
       "            background-color:  #ece7f2;\n",
       "            color:  #000000;\n",
       "        }    #T_50f0c700_ba24_11eb_b9a7_b44bd6e7356drow2_col5 {\n",
       "            background-color:  #fff7fb;\n",
       "            color:  #000000;\n",
       "        }    #T_50f0c700_ba24_11eb_b9a7_b44bd6e7356drow2_col6 {\n",
       "            background-color:  #b9c6e0;\n",
       "            color:  #000000;\n",
       "        }    #T_50f0c700_ba24_11eb_b9a7_b44bd6e7356drow2_col7 {\n",
       "            background-color:  #fdf5fa;\n",
       "            color:  #000000;\n",
       "        }    #T_50f0c700_ba24_11eb_b9a7_b44bd6e7356drow2_col8 {\n",
       "            background-color:  #73a9cf;\n",
       "            color:  #000000;\n",
       "        }    #T_50f0c700_ba24_11eb_b9a7_b44bd6e7356drow3_col0 {\n",
       "            background-color:  #bbc7e0;\n",
       "            color:  #000000;\n",
       "        }    #T_50f0c700_ba24_11eb_b9a7_b44bd6e7356drow3_col1 {\n",
       "            background-color:  #fff7fb;\n",
       "            color:  #000000;\n",
       "        }    #T_50f0c700_ba24_11eb_b9a7_b44bd6e7356drow3_col2 {\n",
       "            background-color:  #dcdaeb;\n",
       "            color:  #000000;\n",
       "        }    #T_50f0c700_ba24_11eb_b9a7_b44bd6e7356drow3_col3 {\n",
       "            background-color:  #023858;\n",
       "            color:  #f1f1f1;\n",
       "        }    #T_50f0c700_ba24_11eb_b9a7_b44bd6e7356drow3_col4 {\n",
       "            background-color:  #d7d6e9;\n",
       "            color:  #000000;\n",
       "        }    #T_50f0c700_ba24_11eb_b9a7_b44bd6e7356drow3_col5 {\n",
       "            background-color:  #e3e0ee;\n",
       "            color:  #000000;\n",
       "        }    #T_50f0c700_ba24_11eb_b9a7_b44bd6e7356drow3_col6 {\n",
       "            background-color:  #e2dfee;\n",
       "            color:  #000000;\n",
       "        }    #T_50f0c700_ba24_11eb_b9a7_b44bd6e7356drow3_col7 {\n",
       "            background-color:  #bfc9e1;\n",
       "            color:  #000000;\n",
       "        }    #T_50f0c700_ba24_11eb_b9a7_b44bd6e7356drow3_col8 {\n",
       "            background-color:  #b9c6e0;\n",
       "            color:  #000000;\n",
       "        }    #T_50f0c700_ba24_11eb_b9a7_b44bd6e7356drow4_col0 {\n",
       "            background-color:  #fff7fb;\n",
       "            color:  #000000;\n",
       "        }    #T_50f0c700_ba24_11eb_b9a7_b44bd6e7356drow4_col1 {\n",
       "            background-color:  #9ebad9;\n",
       "            color:  #000000;\n",
       "        }    #T_50f0c700_ba24_11eb_b9a7_b44bd6e7356drow4_col2 {\n",
       "            background-color:  #f6eff7;\n",
       "            color:  #000000;\n",
       "        }    #T_50f0c700_ba24_11eb_b9a7_b44bd6e7356drow4_col3 {\n",
       "            background-color:  #b8c6e0;\n",
       "            color:  #000000;\n",
       "        }    #T_50f0c700_ba24_11eb_b9a7_b44bd6e7356drow4_col4 {\n",
       "            background-color:  #023858;\n",
       "            color:  #f1f1f1;\n",
       "        }    #T_50f0c700_ba24_11eb_b9a7_b44bd6e7356drow4_col5 {\n",
       "            background-color:  #f4eef6;\n",
       "            color:  #000000;\n",
       "        }    #T_50f0c700_ba24_11eb_b9a7_b44bd6e7356drow4_col6 {\n",
       "            background-color:  #fff7fb;\n",
       "            color:  #000000;\n",
       "        }    #T_50f0c700_ba24_11eb_b9a7_b44bd6e7356drow4_col7 {\n",
       "            background-color:  #ede8f3;\n",
       "            color:  #000000;\n",
       "        }    #T_50f0c700_ba24_11eb_b9a7_b44bd6e7356drow4_col8 {\n",
       "            background-color:  #fff7fb;\n",
       "            color:  #000000;\n",
       "        }    #T_50f0c700_ba24_11eb_b9a7_b44bd6e7356drow5_col0 {\n",
       "            background-color:  #d8d7e9;\n",
       "            color:  #000000;\n",
       "        }    #T_50f0c700_ba24_11eb_b9a7_b44bd6e7356drow5_col1 {\n",
       "            background-color:  #afc1dd;\n",
       "            color:  #000000;\n",
       "        }    #T_50f0c700_ba24_11eb_b9a7_b44bd6e7356drow5_col2 {\n",
       "            background-color:  #faf2f8;\n",
       "            color:  #000000;\n",
       "        }    #T_50f0c700_ba24_11eb_b9a7_b44bd6e7356drow5_col3 {\n",
       "            background-color:  #adc1dd;\n",
       "            color:  #000000;\n",
       "        }    #T_50f0c700_ba24_11eb_b9a7_b44bd6e7356drow5_col4 {\n",
       "            background-color:  #e1dfed;\n",
       "            color:  #000000;\n",
       "        }    #T_50f0c700_ba24_11eb_b9a7_b44bd6e7356drow5_col5 {\n",
       "            background-color:  #023858;\n",
       "            color:  #f1f1f1;\n",
       "        }    #T_50f0c700_ba24_11eb_b9a7_b44bd6e7356drow5_col6 {\n",
       "            background-color:  #d3d4e7;\n",
       "            color:  #000000;\n",
       "        }    #T_50f0c700_ba24_11eb_b9a7_b44bd6e7356drow5_col7 {\n",
       "            background-color:  #f1ebf5;\n",
       "            color:  #000000;\n",
       "        }    #T_50f0c700_ba24_11eb_b9a7_b44bd6e7356drow5_col8 {\n",
       "            background-color:  #eee9f3;\n",
       "            color:  #000000;\n",
       "        }    #T_50f0c700_ba24_11eb_b9a7_b44bd6e7356drow6_col0 {\n",
       "            background-color:  #e4e1ef;\n",
       "            color:  #000000;\n",
       "        }    #T_50f0c700_ba24_11eb_b9a7_b44bd6e7356drow6_col1 {\n",
       "            background-color:  #afc1dd;\n",
       "            color:  #000000;\n",
       "        }    #T_50f0c700_ba24_11eb_b9a7_b44bd6e7356drow6_col2 {\n",
       "            background-color:  #bfc9e1;\n",
       "            color:  #000000;\n",
       "        }    #T_50f0c700_ba24_11eb_b9a7_b44bd6e7356drow6_col3 {\n",
       "            background-color:  #b9c6e0;\n",
       "            color:  #000000;\n",
       "        }    #T_50f0c700_ba24_11eb_b9a7_b44bd6e7356drow6_col4 {\n",
       "            background-color:  #f7f0f7;\n",
       "            color:  #000000;\n",
       "        }    #T_50f0c700_ba24_11eb_b9a7_b44bd6e7356drow6_col5 {\n",
       "            background-color:  #dedcec;\n",
       "            color:  #000000;\n",
       "        }    #T_50f0c700_ba24_11eb_b9a7_b44bd6e7356drow6_col6 {\n",
       "            background-color:  #023858;\n",
       "            color:  #f1f1f1;\n",
       "        }    #T_50f0c700_ba24_11eb_b9a7_b44bd6e7356drow6_col7 {\n",
       "            background-color:  #ece7f2;\n",
       "            color:  #000000;\n",
       "        }    #T_50f0c700_ba24_11eb_b9a7_b44bd6e7356drow6_col8 {\n",
       "            background-color:  #d9d8ea;\n",
       "            color:  #000000;\n",
       "        }    #T_50f0c700_ba24_11eb_b9a7_b44bd6e7356drow7_col0 {\n",
       "            background-color:  #d6d6e9;\n",
       "            color:  #000000;\n",
       "        }    #T_50f0c700_ba24_11eb_b9a7_b44bd6e7356drow7_col1 {\n",
       "            background-color:  #d1d2e6;\n",
       "            color:  #000000;\n",
       "        }    #T_50f0c700_ba24_11eb_b9a7_b44bd6e7356drow7_col2 {\n",
       "            background-color:  #f3edf5;\n",
       "            color:  #000000;\n",
       "        }    #T_50f0c700_ba24_11eb_b9a7_b44bd6e7356drow7_col3 {\n",
       "            background-color:  #7dacd1;\n",
       "            color:  #000000;\n",
       "        }    #T_50f0c700_ba24_11eb_b9a7_b44bd6e7356drow7_col4 {\n",
       "            background-color:  #d2d3e7;\n",
       "            color:  #000000;\n",
       "        }    #T_50f0c700_ba24_11eb_b9a7_b44bd6e7356drow7_col5 {\n",
       "            background-color:  #ede8f3;\n",
       "            color:  #000000;\n",
       "        }    #T_50f0c700_ba24_11eb_b9a7_b44bd6e7356drow7_col6 {\n",
       "            background-color:  #dad9ea;\n",
       "            color:  #000000;\n",
       "        }    #T_50f0c700_ba24_11eb_b9a7_b44bd6e7356drow7_col7 {\n",
       "            background-color:  #023858;\n",
       "            color:  #f1f1f1;\n",
       "        }    #T_50f0c700_ba24_11eb_b9a7_b44bd6e7356drow7_col8 {\n",
       "            background-color:  #d2d3e7;\n",
       "            color:  #000000;\n",
       "        }    #T_50f0c700_ba24_11eb_b9a7_b44bd6e7356drow8_col0 {\n",
       "            background-color:  #d3d4e7;\n",
       "            color:  #000000;\n",
       "        }    #T_50f0c700_ba24_11eb_b9a7_b44bd6e7356drow8_col1 {\n",
       "            background-color:  #cccfe5;\n",
       "            color:  #000000;\n",
       "        }    #T_50f0c700_ba24_11eb_b9a7_b44bd6e7356drow8_col2 {\n",
       "            background-color:  #69a5cc;\n",
       "            color:  #000000;\n",
       "        }    #T_50f0c700_ba24_11eb_b9a7_b44bd6e7356drow8_col3 {\n",
       "            background-color:  #80aed2;\n",
       "            color:  #000000;\n",
       "        }    #T_50f0c700_ba24_11eb_b9a7_b44bd6e7356drow8_col4 {\n",
       "            background-color:  #efe9f3;\n",
       "            color:  #000000;\n",
       "        }    #T_50f0c700_ba24_11eb_b9a7_b44bd6e7356drow8_col5 {\n",
       "            background-color:  #eee9f3;\n",
       "            color:  #000000;\n",
       "        }    #T_50f0c700_ba24_11eb_b9a7_b44bd6e7356drow8_col6 {\n",
       "            background-color:  #ced0e6;\n",
       "            color:  #000000;\n",
       "        }    #T_50f0c700_ba24_11eb_b9a7_b44bd6e7356drow8_col7 {\n",
       "            background-color:  #d8d7e9;\n",
       "            color:  #000000;\n",
       "        }    #T_50f0c700_ba24_11eb_b9a7_b44bd6e7356drow8_col8 {\n",
       "            background-color:  #023858;\n",
       "            color:  #f1f1f1;\n",
       "        }</style><table id=\"T_50f0c700_ba24_11eb_b9a7_b44bd6e7356d\" ><thead>    <tr>        <th class=\"blank level0\" ></th>        <th class=\"col_heading level0 col0\" >track_id</th>        <th class=\"col_heading level0 col1\" >acousticness</th>        <th class=\"col_heading level0 col2\" >danceability</th>        <th class=\"col_heading level0 col3\" >energy</th>        <th class=\"col_heading level0 col4\" >instrumentalness</th>        <th class=\"col_heading level0 col5\" >liveness</th>        <th class=\"col_heading level0 col6\" >speechiness</th>        <th class=\"col_heading level0 col7\" >tempo</th>        <th class=\"col_heading level0 col8\" >valence</th>    </tr></thead><tbody>\n",
       "                <tr>\n",
       "                        <th id=\"T_50f0c700_ba24_11eb_b9a7_b44bd6e7356dlevel0_row0\" class=\"row_heading level0 row0\" >track_id</th>\n",
       "                        <td id=\"T_50f0c700_ba24_11eb_b9a7_b44bd6e7356drow0_col0\" class=\"data row0 col0\" >1</td>\n",
       "                        <td id=\"T_50f0c700_ba24_11eb_b9a7_b44bd6e7356drow0_col1\" class=\"data row0 col1\" >-0.279829</td>\n",
       "                        <td id=\"T_50f0c700_ba24_11eb_b9a7_b44bd6e7356drow0_col2\" class=\"data row0 col2\" >0.102056</td>\n",
       "                        <td id=\"T_50f0c700_ba24_11eb_b9a7_b44bd6e7356drow0_col3\" class=\"data row0 col3\" >0.121991</td>\n",
       "                        <td id=\"T_50f0c700_ba24_11eb_b9a7_b44bd6e7356drow0_col4\" class=\"data row0 col4\" >-0.283206</td>\n",
       "                        <td id=\"T_50f0c700_ba24_11eb_b9a7_b44bd6e7356drow0_col5\" class=\"data row0 col5\" >-0.00405934</td>\n",
       "                        <td id=\"T_50f0c700_ba24_11eb_b9a7_b44bd6e7356drow0_col6\" class=\"data row0 col6\" >-0.0750767</td>\n",
       "                        <td id=\"T_50f0c700_ba24_11eb_b9a7_b44bd6e7356drow0_col7\" class=\"data row0 col7\" >0.004313</td>\n",
       "                        <td id=\"T_50f0c700_ba24_11eb_b9a7_b44bd6e7356drow0_col8\" class=\"data row0 col8\" >0.0202007</td>\n",
       "            </tr>\n",
       "            <tr>\n",
       "                        <th id=\"T_50f0c700_ba24_11eb_b9a7_b44bd6e7356dlevel0_row1\" class=\"row_heading level0 row1\" >acousticness</th>\n",
       "                        <td id=\"T_50f0c700_ba24_11eb_b9a7_b44bd6e7356drow1_col0\" class=\"data row1 col0\" >-0.279829</td>\n",
       "                        <td id=\"T_50f0c700_ba24_11eb_b9a7_b44bd6e7356drow1_col1\" class=\"data row1 col1\" >1</td>\n",
       "                        <td id=\"T_50f0c700_ba24_11eb_b9a7_b44bd6e7356drow1_col2\" class=\"data row1 col2\" >-0.189599</td>\n",
       "                        <td id=\"T_50f0c700_ba24_11eb_b9a7_b44bd6e7356drow1_col3\" class=\"data row1 col3\" >-0.477273</td>\n",
       "                        <td id=\"T_50f0c700_ba24_11eb_b9a7_b44bd6e7356drow1_col4\" class=\"data row1 col4\" >0.110033</td>\n",
       "                        <td id=\"T_50f0c700_ba24_11eb_b9a7_b44bd6e7356drow1_col5\" class=\"data row1 col5\" >0.0413193</td>\n",
       "                        <td id=\"T_50f0c700_ba24_11eb_b9a7_b44bd6e7356drow1_col6\" class=\"data row1 col6\" >0.0387845</td>\n",
       "                        <td id=\"T_50f0c700_ba24_11eb_b9a7_b44bd6e7356drow1_col7\" class=\"data row1 col7\" >-0.110701</td>\n",
       "                        <td id=\"T_50f0c700_ba24_11eb_b9a7_b44bd6e7356drow1_col8\" class=\"data row1 col8\" >-0.0854362</td>\n",
       "            </tr>\n",
       "            <tr>\n",
       "                        <th id=\"T_50f0c700_ba24_11eb_b9a7_b44bd6e7356dlevel0_row2\" class=\"row_heading level0 row2\" >danceability</th>\n",
       "                        <td id=\"T_50f0c700_ba24_11eb_b9a7_b44bd6e7356drow2_col0\" class=\"data row2 col0\" >0.102056</td>\n",
       "                        <td id=\"T_50f0c700_ba24_11eb_b9a7_b44bd6e7356drow2_col1\" class=\"data row2 col1\" >-0.189599</td>\n",
       "                        <td id=\"T_50f0c700_ba24_11eb_b9a7_b44bd6e7356drow2_col2\" class=\"data row2 col2\" >1</td>\n",
       "                        <td id=\"T_50f0c700_ba24_11eb_b9a7_b44bd6e7356drow2_col3\" class=\"data row2 col3\" >0.0453446</td>\n",
       "                        <td id=\"T_50f0c700_ba24_11eb_b9a7_b44bd6e7356drow2_col4\" class=\"data row2 col4\" >-0.118033</td>\n",
       "                        <td id=\"T_50f0c700_ba24_11eb_b9a7_b44bd6e7356drow2_col5\" class=\"data row2 col5\" >-0.143339</td>\n",
       "                        <td id=\"T_50f0c700_ba24_11eb_b9a7_b44bd6e7356drow2_col6\" class=\"data row2 col6\" >0.171311</td>\n",
       "                        <td id=\"T_50f0c700_ba24_11eb_b9a7_b44bd6e7356drow2_col7\" class=\"data row2 col7\" >-0.0943519</td>\n",
       "                        <td id=\"T_50f0c700_ba24_11eb_b9a7_b44bd6e7356drow2_col8\" class=\"data row2 col8\" >0.428515</td>\n",
       "            </tr>\n",
       "            <tr>\n",
       "                        <th id=\"T_50f0c700_ba24_11eb_b9a7_b44bd6e7356dlevel0_row3\" class=\"row_heading level0 row3\" >energy</th>\n",
       "                        <td id=\"T_50f0c700_ba24_11eb_b9a7_b44bd6e7356drow3_col0\" class=\"data row3 col0\" >0.121991</td>\n",
       "                        <td id=\"T_50f0c700_ba24_11eb_b9a7_b44bd6e7356drow3_col1\" class=\"data row3 col1\" >-0.477273</td>\n",
       "                        <td id=\"T_50f0c700_ba24_11eb_b9a7_b44bd6e7356drow3_col2\" class=\"data row3 col2\" >0.0453446</td>\n",
       "                        <td id=\"T_50f0c700_ba24_11eb_b9a7_b44bd6e7356drow3_col3\" class=\"data row3 col3\" >1</td>\n",
       "                        <td id=\"T_50f0c700_ba24_11eb_b9a7_b44bd6e7356drow3_col4\" class=\"data row3 col4\" >-0.00241179</td>\n",
       "                        <td id=\"T_50f0c700_ba24_11eb_b9a7_b44bd6e7356drow3_col5\" class=\"data row3 col5\" >0.0457524</td>\n",
       "                        <td id=\"T_50f0c700_ba24_11eb_b9a7_b44bd6e7356drow3_col6\" class=\"data row3 col6\" >-0.00864488</td>\n",
       "                        <td id=\"T_50f0c700_ba24_11eb_b9a7_b44bd6e7356drow3_col7\" class=\"data row3 col7\" >0.227324</td>\n",
       "                        <td id=\"T_50f0c700_ba24_11eb_b9a7_b44bd6e7356drow3_col8\" class=\"data row3 col8\" >0.219384</td>\n",
       "            </tr>\n",
       "            <tr>\n",
       "                        <th id=\"T_50f0c700_ba24_11eb_b9a7_b44bd6e7356dlevel0_row4\" class=\"row_heading level0 row4\" >instrumentalness</th>\n",
       "                        <td id=\"T_50f0c700_ba24_11eb_b9a7_b44bd6e7356drow4_col0\" class=\"data row4 col0\" >-0.283206</td>\n",
       "                        <td id=\"T_50f0c700_ba24_11eb_b9a7_b44bd6e7356drow4_col1\" class=\"data row4 col1\" >0.110033</td>\n",
       "                        <td id=\"T_50f0c700_ba24_11eb_b9a7_b44bd6e7356drow4_col2\" class=\"data row4 col2\" >-0.118033</td>\n",
       "                        <td id=\"T_50f0c700_ba24_11eb_b9a7_b44bd6e7356drow4_col3\" class=\"data row4 col3\" >-0.00241179</td>\n",
       "                        <td id=\"T_50f0c700_ba24_11eb_b9a7_b44bd6e7356drow4_col4\" class=\"data row4 col4\" >1</td>\n",
       "                        <td id=\"T_50f0c700_ba24_11eb_b9a7_b44bd6e7356drow4_col5\" class=\"data row4 col5\" >-0.0585932</td>\n",
       "                        <td id=\"T_50f0c700_ba24_11eb_b9a7_b44bd6e7356drow4_col6\" class=\"data row4 col6\" >-0.216689</td>\n",
       "                        <td id=\"T_50f0c700_ba24_11eb_b9a7_b44bd6e7356drow4_col7\" class=\"data row4 col7\" >0.0230032</td>\n",
       "                        <td id=\"T_50f0c700_ba24_11eb_b9a7_b44bd6e7356drow4_col8\" class=\"data row4 col8\" >-0.1452</td>\n",
       "            </tr>\n",
       "            <tr>\n",
       "                        <th id=\"T_50f0c700_ba24_11eb_b9a7_b44bd6e7356dlevel0_row5\" class=\"row_heading level0 row5\" >liveness</th>\n",
       "                        <td id=\"T_50f0c700_ba24_11eb_b9a7_b44bd6e7356drow5_col0\" class=\"data row5 col0\" >-0.00405934</td>\n",
       "                        <td id=\"T_50f0c700_ba24_11eb_b9a7_b44bd6e7356drow5_col1\" class=\"data row5 col1\" >0.0413193</td>\n",
       "                        <td id=\"T_50f0c700_ba24_11eb_b9a7_b44bd6e7356drow5_col2\" class=\"data row5 col2\" >-0.143339</td>\n",
       "                        <td id=\"T_50f0c700_ba24_11eb_b9a7_b44bd6e7356drow5_col3\" class=\"data row5 col3\" >0.0457524</td>\n",
       "                        <td id=\"T_50f0c700_ba24_11eb_b9a7_b44bd6e7356drow5_col4\" class=\"data row5 col4\" >-0.0585932</td>\n",
       "                        <td id=\"T_50f0c700_ba24_11eb_b9a7_b44bd6e7356drow5_col5\" class=\"data row5 col5\" >1</td>\n",
       "                        <td id=\"T_50f0c700_ba24_11eb_b9a7_b44bd6e7356drow5_col6\" class=\"data row5 col6\" >0.0731041</td>\n",
       "                        <td id=\"T_50f0c700_ba24_11eb_b9a7_b44bd6e7356drow5_col7\" class=\"data row5 col7\" >-0.00756641</td>\n",
       "                        <td id=\"T_50f0c700_ba24_11eb_b9a7_b44bd6e7356drow5_col8\" class=\"data row5 col8\" >-0.0178859</td>\n",
       "            </tr>\n",
       "            <tr>\n",
       "                        <th id=\"T_50f0c700_ba24_11eb_b9a7_b44bd6e7356dlevel0_row6\" class=\"row_heading level0 row6\" >speechiness</th>\n",
       "                        <td id=\"T_50f0c700_ba24_11eb_b9a7_b44bd6e7356drow6_col0\" class=\"data row6 col0\" >-0.0750767</td>\n",
       "                        <td id=\"T_50f0c700_ba24_11eb_b9a7_b44bd6e7356drow6_col1\" class=\"data row6 col1\" >0.0387845</td>\n",
       "                        <td id=\"T_50f0c700_ba24_11eb_b9a7_b44bd6e7356drow6_col2\" class=\"data row6 col2\" >0.171311</td>\n",
       "                        <td id=\"T_50f0c700_ba24_11eb_b9a7_b44bd6e7356drow6_col3\" class=\"data row6 col3\" >-0.00864488</td>\n",
       "                        <td id=\"T_50f0c700_ba24_11eb_b9a7_b44bd6e7356drow6_col4\" class=\"data row6 col4\" >-0.216689</td>\n",
       "                        <td id=\"T_50f0c700_ba24_11eb_b9a7_b44bd6e7356drow6_col5\" class=\"data row6 col5\" >0.0731041</td>\n",
       "                        <td id=\"T_50f0c700_ba24_11eb_b9a7_b44bd6e7356drow6_col6\" class=\"data row6 col6\" >1</td>\n",
       "                        <td id=\"T_50f0c700_ba24_11eb_b9a7_b44bd6e7356drow6_col7\" class=\"data row6 col7\" >0.0321876</td>\n",
       "                        <td id=\"T_50f0c700_ba24_11eb_b9a7_b44bd6e7356drow6_col8\" class=\"data row6 col8\" >0.0947941</td>\n",
       "            </tr>\n",
       "            <tr>\n",
       "                        <th id=\"T_50f0c700_ba24_11eb_b9a7_b44bd6e7356dlevel0_row7\" class=\"row_heading level0 row7\" >tempo</th>\n",
       "                        <td id=\"T_50f0c700_ba24_11eb_b9a7_b44bd6e7356drow7_col0\" class=\"data row7 col0\" >0.004313</td>\n",
       "                        <td id=\"T_50f0c700_ba24_11eb_b9a7_b44bd6e7356drow7_col1\" class=\"data row7 col1\" >-0.110701</td>\n",
       "                        <td id=\"T_50f0c700_ba24_11eb_b9a7_b44bd6e7356drow7_col2\" class=\"data row7 col2\" >-0.0943519</td>\n",
       "                        <td id=\"T_50f0c700_ba24_11eb_b9a7_b44bd6e7356drow7_col3\" class=\"data row7 col3\" >0.227324</td>\n",
       "                        <td id=\"T_50f0c700_ba24_11eb_b9a7_b44bd6e7356drow7_col4\" class=\"data row7 col4\" >0.0230032</td>\n",
       "                        <td id=\"T_50f0c700_ba24_11eb_b9a7_b44bd6e7356drow7_col5\" class=\"data row7 col5\" >-0.00756641</td>\n",
       "                        <td id=\"T_50f0c700_ba24_11eb_b9a7_b44bd6e7356drow7_col6\" class=\"data row7 col6\" >0.0321876</td>\n",
       "                        <td id=\"T_50f0c700_ba24_11eb_b9a7_b44bd6e7356drow7_col7\" class=\"data row7 col7\" >1</td>\n",
       "                        <td id=\"T_50f0c700_ba24_11eb_b9a7_b44bd6e7356drow7_col8\" class=\"data row7 col8\" >0.129911</td>\n",
       "            </tr>\n",
       "            <tr>\n",
       "                        <th id=\"T_50f0c700_ba24_11eb_b9a7_b44bd6e7356dlevel0_row8\" class=\"row_heading level0 row8\" >valence</th>\n",
       "                        <td id=\"T_50f0c700_ba24_11eb_b9a7_b44bd6e7356drow8_col0\" class=\"data row8 col0\" >0.0202007</td>\n",
       "                        <td id=\"T_50f0c700_ba24_11eb_b9a7_b44bd6e7356drow8_col1\" class=\"data row8 col1\" >-0.0854362</td>\n",
       "                        <td id=\"T_50f0c700_ba24_11eb_b9a7_b44bd6e7356drow8_col2\" class=\"data row8 col2\" >0.428515</td>\n",
       "                        <td id=\"T_50f0c700_ba24_11eb_b9a7_b44bd6e7356drow8_col3\" class=\"data row8 col3\" >0.219384</td>\n",
       "                        <td id=\"T_50f0c700_ba24_11eb_b9a7_b44bd6e7356drow8_col4\" class=\"data row8 col4\" >-0.1452</td>\n",
       "                        <td id=\"T_50f0c700_ba24_11eb_b9a7_b44bd6e7356drow8_col5\" class=\"data row8 col5\" >-0.0178859</td>\n",
       "                        <td id=\"T_50f0c700_ba24_11eb_b9a7_b44bd6e7356drow8_col6\" class=\"data row8 col6\" >0.0947941</td>\n",
       "                        <td id=\"T_50f0c700_ba24_11eb_b9a7_b44bd6e7356drow8_col7\" class=\"data row8 col7\" >0.129911</td>\n",
       "                        <td id=\"T_50f0c700_ba24_11eb_b9a7_b44bd6e7356drow8_col8\" class=\"data row8 col8\" >1</td>\n",
       "            </tr>\n",
       "    </tbody></table>"
      ],
      "text/plain": [
       "<pandas.io.formats.style.Styler at 0x22fde3b19c8>"
      ]
     },
     "execution_count": 4,
     "metadata": {},
     "output_type": "execute_result"
    }
   ],
   "source": [
    "corr = echonest_metrics.corr() #get correlation\n",
    "corr.style.background_gradient()"
   ]
  },
  {
   "cell_type": "markdown",
   "metadata": {},
   "source": [
    "### Normalizing the feature data by doing standard scalling"
   ]
  },
  {
   "cell_type": "code",
   "execution_count": 5,
   "metadata": {},
   "outputs": [
    {
     "data": {
      "text/html": [
       "<div>\n",
       "<style scoped>\n",
       "    .dataframe tbody tr th:only-of-type {\n",
       "        vertical-align: middle;\n",
       "    }\n",
       "\n",
       "    .dataframe tbody tr th {\n",
       "        vertical-align: top;\n",
       "    }\n",
       "\n",
       "    .dataframe thead th {\n",
       "        text-align: right;\n",
       "    }\n",
       "</style>\n",
       "<table border=\"1\" class=\"dataframe\">\n",
       "  <thead>\n",
       "    <tr style=\"text-align: right;\">\n",
       "      <th></th>\n",
       "      <th>acousticness</th>\n",
       "      <th>danceability</th>\n",
       "      <th>energy</th>\n",
       "      <th>instrumentalness</th>\n",
       "      <th>liveness</th>\n",
       "      <th>speechiness</th>\n",
       "      <th>tempo</th>\n",
       "      <th>valence</th>\n",
       "    </tr>\n",
       "  </thead>\n",
       "  <tbody>\n",
       "    <tr>\n",
       "      <td>0</td>\n",
       "      <td>0.416675</td>\n",
       "      <td>0.675894</td>\n",
       "      <td>0.634476</td>\n",
       "      <td>0.010628</td>\n",
       "      <td>0.177647</td>\n",
       "      <td>0.159310</td>\n",
       "      <td>165.922</td>\n",
       "      <td>0.576661</td>\n",
       "    </tr>\n",
       "    <tr>\n",
       "      <td>1</td>\n",
       "      <td>0.374408</td>\n",
       "      <td>0.528643</td>\n",
       "      <td>0.817461</td>\n",
       "      <td>0.001851</td>\n",
       "      <td>0.105880</td>\n",
       "      <td>0.461818</td>\n",
       "      <td>126.957</td>\n",
       "      <td>0.269240</td>\n",
       "    </tr>\n",
       "    <tr>\n",
       "      <td>2</td>\n",
       "      <td>0.043567</td>\n",
       "      <td>0.745566</td>\n",
       "      <td>0.701470</td>\n",
       "      <td>0.000697</td>\n",
       "      <td>0.373143</td>\n",
       "      <td>0.124595</td>\n",
       "      <td>100.260</td>\n",
       "      <td>0.621661</td>\n",
       "    </tr>\n",
       "    <tr>\n",
       "      <td>3</td>\n",
       "      <td>0.452217</td>\n",
       "      <td>0.513238</td>\n",
       "      <td>0.560410</td>\n",
       "      <td>0.019443</td>\n",
       "      <td>0.096567</td>\n",
       "      <td>0.525519</td>\n",
       "      <td>114.290</td>\n",
       "      <td>0.894072</td>\n",
       "    </tr>\n",
       "    <tr>\n",
       "      <td>4</td>\n",
       "      <td>0.988306</td>\n",
       "      <td>0.255661</td>\n",
       "      <td>0.979774</td>\n",
       "      <td>0.973006</td>\n",
       "      <td>0.121342</td>\n",
       "      <td>0.051740</td>\n",
       "      <td>90.241</td>\n",
       "      <td>0.034018</td>\n",
       "    </tr>\n",
       "  </tbody>\n",
       "</table>\n",
       "</div>"
      ],
      "text/plain": [
       "   acousticness  danceability    energy  instrumentalness  liveness  \\\n",
       "0      0.416675      0.675894  0.634476          0.010628  0.177647   \n",
       "1      0.374408      0.528643  0.817461          0.001851  0.105880   \n",
       "2      0.043567      0.745566  0.701470          0.000697  0.373143   \n",
       "3      0.452217      0.513238  0.560410          0.019443  0.096567   \n",
       "4      0.988306      0.255661  0.979774          0.973006  0.121342   \n",
       "\n",
       "   speechiness    tempo   valence  \n",
       "0     0.159310  165.922  0.576661  \n",
       "1     0.461818  126.957  0.269240  \n",
       "2     0.124595  100.260  0.621661  \n",
       "3     0.525519  114.290  0.894072  \n",
       "4     0.051740   90.241  0.034018  "
      ]
     },
     "execution_count": 5,
     "metadata": {},
     "output_type": "execute_result"
    }
   ],
   "source": [
    "#get features by dropping the column track_id and genre_top\n",
    "features = echo_tracks.drop(columns = ['genre_top' , 'track_id'])\n",
    "\n",
    "features.head(5)"
   ]
  },
  {
   "cell_type": "code",
   "execution_count": 17,
   "metadata": {},
   "outputs": [
    {
     "data": {
      "text/plain": [
       "0       Hip-Hop\n",
       "1       Hip-Hop\n",
       "2       Hip-Hop\n",
       "3       Hip-Hop\n",
       "4          Rock\n",
       "         ...   \n",
       "4797    Hip-Hop\n",
       "4798    Hip-Hop\n",
       "4799    Hip-Hop\n",
       "4800    Hip-Hop\n",
       "4801    Hip-Hop\n",
       "Name: genre_top, Length: 4802, dtype: object"
      ]
     },
     "execution_count": 17,
     "metadata": {},
     "output_type": "execute_result"
    }
   ],
   "source": [
    "#define label\n",
    "labels = echo_tracks['genre_top']\n",
    "labels #it is data series"
   ]
  },
  {
   "cell_type": "code",
   "execution_count": 7,
   "metadata": {},
   "outputs": [],
   "source": [
    "#Do standard scaling\n",
    "from sklearn.preprocessing import StandardScaler\n",
    "scaler = StandardScaler()\n",
    "scaled_train_features = scaler.fit_transform(features)"
   ]
  },
  {
   "cell_type": "code",
   "execution_count": 8,
   "metadata": {},
   "outputs": [
    {
     "data": {
      "text/plain": [
       "array([[-0.19121034,  1.30442004,  0.03831594, ...,  0.37303429,\n",
       "         1.15397908,  0.46228696],\n",
       "       [-0.30603598,  0.50188641,  0.78817624, ...,  2.44615517,\n",
       "         0.00791367, -0.69081137],\n",
       "       [-1.20481276,  1.68413943,  0.31285194, ...,  0.13513049,\n",
       "        -0.77731688,  0.63107745],\n",
       "       ...,\n",
       "       [-1.29470431,  1.17682795,  0.13265633, ...,  0.85182206,\n",
       "        -0.93541008, -0.07941825],\n",
       "       [-1.13869115, -0.02253433,  0.57117905, ...,  1.40951543,\n",
       "         1.31301348,  0.47513794],\n",
       "       [-0.90611434,  1.10148973,  0.56322452, ...,  1.36030881,\n",
       "        -1.43669053,  0.76217464]])"
      ]
     },
     "execution_count": 8,
     "metadata": {},
     "output_type": "execute_result"
    }
   ],
   "source": [
    "scaled_train_features"
   ]
  },
  {
   "cell_type": "markdown",
   "metadata": {},
   "source": [
    "### now fit scaled_train_features on PCA (Principal Component Analysis)"
   ]
  },
  {
   "cell_type": "code",
   "execution_count": 9,
   "metadata": {},
   "outputs": [
    {
     "name": "stderr",
     "output_type": "stream",
     "text": [
      "C:\\Users\\Sadii\\Anaconda3\\lib\\importlib\\_bootstrap.py:219: RuntimeWarning: numpy.ufunc size changed, may indicate binary incompatibility. Expected 192 from C header, got 216 from PyObject\n",
      "  return f(*args, **kwds)\n"
     ]
    }
   ],
   "source": [
    "import matplotlib.pyplot as plt\n",
    "from sklearn.decomposition import PCA\n",
    "%matplotlib inline"
   ]
  },
  {
   "cell_type": "code",
   "execution_count": 10,
   "metadata": {},
   "outputs": [],
   "source": [
    "# get all explained variance ratios from pca of all features\n",
    "pca = PCA()\n",
    "pca.fit(scaled_train_features)\n",
    "exp_variance = pca.explained_variance_ratio_\n"
   ]
  },
  {
   "cell_type": "code",
   "execution_count": 11,
   "metadata": {},
   "outputs": [
    {
     "data": {
      "text/plain": [
       "Text(0.5, 0, 'Principal Component Analysis')"
      ]
     },
     "execution_count": 11,
     "metadata": {},
     "output_type": "execute_result"
    },
    {
     "data": {
      "image/png": "[encoded data removed]",
      "text/plain": [
       "<Figure size 432x288 with 1 Axes>"
      ]
     },
     "metadata": {
      "needs_background": "light"
     },
     "output_type": "display_data"
    }
   ],
   "source": [
    "# plot the bar graph of explained_variance\n",
    "fig , ax=plt.subplots()\n",
    "ax.bar(range(pca.n_components_),exp_variance)\n",
    "ax.set_xlabel(\"Principal Component Analysis\")"
   ]
  },
  {
   "cell_type": "markdown",
   "metadata": {},
   "source": [
    "### Doing Cummilative variance to get more info about how much no.of components to use"
   ]
  },
  {
   "cell_type": "code",
   "execution_count": 12,
   "metadata": {},
   "outputs": [],
   "source": [
    "import numpy as np"
   ]
  },
  {
   "cell_type": "code",
   "execution_count": 13,
   "metadata": {},
   "outputs": [
    {
     "data": {
      "image/png": "[encoded data removed]",
      "text/plain": [
       "<Figure size 432x288 with 1 Axes>"
      ]
     },
     "metadata": {
      "needs_background": "light"
     },
     "output_type": "display_data"
    }
   ],
   "source": [
    "cum_exp_variance = np.cumsum(exp_variance) #calculate cummulative variance\n",
    "\n",
    "#plot the cum_exp_variance\n",
    "fig , ax=plt.subplots()\n",
    "ax.plot(cum_exp_variance)\n",
    "ax.axhline(y=0.85,linestyle='--') #0.85 coz we want 85% variance data\n",
    "n_components = 6 #as we have 7 components so 85% is 6\n"
   ]
  },
  {
   "cell_type": "code",
   "execution_count": 14,
   "metadata": {},
   "outputs": [],
   "source": [
    "#perform pca with chosen no of componets and project data on components\n",
    "pca= PCA(n_components,random_state=0)\n",
    "pca.fit(scaled_train_features)\n",
    "pca_projection = pca.transform(scaled_train_features)"
   ]
  },
  {
   "cell_type": "markdown",
   "metadata": {},
   "source": [
    "### Applying Decision Tree"
   ]
  },
  {
   "cell_type": "code",
   "execution_count": 16,
   "metadata": {},
   "outputs": [],
   "source": [
    "from sklearn.model_selection import train_test_split\n",
    "from sklearn.tree import DecisionTreeClassifier\n"
   ]
  },
  {
   "cell_type": "code",
   "execution_count": 31,
   "metadata": {},
   "outputs": [],
   "source": [
    "#Split the data\n",
    "train_features, test_features, train_labels, test_labels = train_test_split(pca_projection,labels,random_state=10)"
   ]
  },
  {
   "cell_type": "code",
   "execution_count": 32,
   "metadata": {},
   "outputs": [
    {
     "data": {
      "text/plain": [
       "DecisionTreeClassifier(class_weight=None, criterion='gini', max_depth=None,\n",
       "                       max_features=None, max_leaf_nodes=None,\n",
       "                       min_impurity_decrease=0.0, min_impurity_split=None,\n",
       "                       min_samples_leaf=1, min_samples_split=2,\n",
       "                       min_weight_fraction_leaf=0.0, presort=False,\n",
       "                       random_state=10, splitter='best')"
      ]
     },
     "execution_count": 32,
     "metadata": {},
     "output_type": "execute_result"
    }
   ],
   "source": [
    "#Train the model\n",
    "tree = DecisionTreeClassifier(random_state=10)\n",
    "tree.fit(train_features,train_labels)"
   ]
  },
  {
   "cell_type": "code",
   "execution_count": 33,
   "metadata": {},
   "outputs": [
    {
     "data": {
      "text/plain": [
       "array(['Rock', 'Rock', 'Rock', ..., 'Rock', 'Hip-Hop', 'Rock'],\n",
       "      dtype=object)"
      ]
     },
     "execution_count": 33,
     "metadata": {},
     "output_type": "execute_result"
    }
   ],
   "source": [
    "# Predict the labels of test\n",
    "pred_labels_tree = tree.predict(test_features)\n",
    "\n",
    "pred_labels_tree"
   ]
  },
  {
   "cell_type": "markdown",
   "metadata": {},
   "source": [
    "###  Compare the predictions with the actual data"
   ]
  },
  {
   "cell_type": "code",
   "execution_count": 34,
   "metadata": {},
   "outputs": [
    {
     "name": "stdout",
     "output_type": "stream",
     "text": [
      "0.8434637801831807\n"
     ]
    }
   ],
   "source": [
    "from sklearn.metrics import accuracy_score\n",
    "print(accuracy_score(test_labels,pred_labels_tree))\n"
   ]
  },
  {
   "cell_type": "markdown",
   "metadata": {},
   "source": [
    "### Applying Logistic Regression"
   ]
  },
  {
   "cell_type": "code",
   "execution_count": 35,
   "metadata": {},
   "outputs": [],
   "source": [
    "from sklearn.linear_model import LogisticRegression\n"
   ]
  },
  {
   "cell_type": "code",
   "execution_count": 36,
   "metadata": {},
   "outputs": [
    {
     "name": "stderr",
     "output_type": "stream",
     "text": [
      "C:\\Users\\Sadii\\Anaconda3\\lib\\site-packages\\sklearn\\linear_model\\logistic.py:432: FutureWarning: Default solver will be changed to 'lbfgs' in 0.22. Specify a solver to silence this warning.\n",
      "  FutureWarning)\n"
     ]
    }
   ],
   "source": [
    "log = LogisticRegression(random_state=10)\n",
    "log.fit(train_features,train_labels)\n",
    "\n",
    "pred_labels_log = log.predict(test_features)\n",
    "\n"
   ]
  },
  {
   "cell_type": "code",
   "execution_count": 37,
   "metadata": {},
   "outputs": [
    {
     "name": "stdout",
     "output_type": "stream",
     "text": [
      "0.8784346378018318\n"
     ]
    }
   ],
   "source": [
    "print(accuracy_score(test_labels,pred_labels_log))"
   ]
  },
  {
   "cell_type": "markdown",
   "metadata": {},
   "source": [
    "#### Classification Report"
   ]
  },
  {
   "cell_type": "code",
   "execution_count": 38,
   "metadata": {},
   "outputs": [],
   "source": [
    "from sklearn.metrics import classification_report\n",
    "\n",
    "class_rep_tree = classification_report(test_labels,pred_labels_tree)\n",
    "class_rep_log = classification_report(test_labels,pred_labels_log)"
   ]
  },
  {
   "cell_type": "code",
   "execution_count": 39,
   "metadata": {},
   "outputs": [
    {
     "name": "stdout",
     "output_type": "stream",
     "text": [
      "Decission Tree:                precision    recall  f1-score   support\n",
      "\n",
      "     Hip-Hop       0.60      0.60      0.60       235\n",
      "        Rock       0.90      0.90      0.90       966\n",
      "\n",
      "    accuracy                           0.84      1201\n",
      "   macro avg       0.75      0.75      0.75      1201\n",
      "weighted avg       0.84      0.84      0.84      1201\n",
      "\n",
      "Logistic Regression:                precision    recall  f1-score   support\n",
      "\n",
      "     Hip-Hop       0.77      0.54      0.64       235\n",
      "        Rock       0.90      0.96      0.93       966\n",
      "\n",
      "    accuracy                           0.88      1201\n",
      "   macro avg       0.83      0.75      0.78      1201\n",
      "weighted avg       0.87      0.88      0.87      1201\n",
      "\n"
     ]
    }
   ],
   "source": [
    "print(\"Decission Tree: \",class_rep_tree)\n",
    "print(\"Logistic Regression: \",class_rep_log)"
   ]
  },
  {
   "cell_type": "markdown",
   "metadata": {},
   "source": [
    "### Balancing our data (to have better classification)"
   ]
  },
  {
   "cell_type": "code",
   "execution_count": 41,
   "metadata": {},
   "outputs": [],
   "source": [
    "# extract the only hiphop and rock data from echo_tracks\n",
    "hop_only = echo_tracks.loc[echo_tracks['genre_top']=='Hip-Hop']\n",
    "rock_only = echo_tracks.loc[echo_tracks['genre_top']=='Rock']"
   ]
  },
  {
   "cell_type": "code",
   "execution_count": 44,
   "metadata": {},
   "outputs": [
    {
     "name": "stdout",
     "output_type": "stream",
     "text": [
      "(910, 10) (3892, 10)\n"
     ]
    }
   ],
   "source": [
    "print(hop_only.shape,rock_only.shape)"
   ]
  },
  {
   "cell_type": "code",
   "execution_count": 46,
   "metadata": {},
   "outputs": [],
   "source": [
    "# have equal no. of both data \n",
    "rock_only = rock_only.sample(hop_only.shape[0],random_state=10)"
   ]
  },
  {
   "cell_type": "code",
   "execution_count": 48,
   "metadata": {},
   "outputs": [],
   "source": [
    "#Concatenate the hop_only and rock_only data\n",
    "rock_hop_only = pd.concat([rock_only,hop_only])\n"
   ]
  },
  {
   "cell_type": "code",
   "execution_count": 49,
   "metadata": {},
   "outputs": [],
   "source": [
    "features = rock_hop_only.drop(['genre_top','track_id'],axis=1)\n",
    "labels = rock_hop_only['genre_top']\n",
    "pca_projection = pca.fit_transform(scaler.fit_transform(features))\n"
   ]
  },
  {
   "cell_type": "code",
   "execution_count": 50,
   "metadata": {},
   "outputs": [],
   "source": [
    "# Now again train and spilt the train and test data\n",
    "train_features, test_features, train_labels, test_labels = train_test_split(pca_projection,labels,random_state=10)"
   ]
  },
  {
   "cell_type": "markdown",
   "metadata": {},
   "source": [
    "### Now apply the above models"
   ]
  },
  {
   "cell_type": "code",
   "execution_count": 56,
   "metadata": {},
   "outputs": [],
   "source": [
    "# Train on Decision tree\n",
    "tree = DecisionTreeClassifier(random_state=10)\n",
    "tree.fit(train_features,train_labels)\n",
    "pred_labels_tree = tree.predict(test_features)"
   ]
  },
  {
   "cell_type": "code",
   "execution_count": 57,
   "metadata": {},
   "outputs": [
    {
     "name": "stderr",
     "output_type": "stream",
     "text": [
      "C:\\Users\\Sadii\\Anaconda3\\lib\\site-packages\\sklearn\\linear_model\\logistic.py:432: FutureWarning: Default solver will be changed to 'lbfgs' in 0.22. Specify a solver to silence this warning.\n",
      "  FutureWarning)\n"
     ]
    }
   ],
   "source": [
    "# Train on Logistic Regression\n",
    "log = LogisticRegression(random_state=10)\n",
    "log.fit(train_features,train_labels)\n",
    "pred_labels_log = log.predict(test_features)"
   ]
  },
  {
   "cell_type": "code",
   "execution_count": 58,
   "metadata": {},
   "outputs": [
    {
     "name": "stdout",
     "output_type": "stream",
     "text": [
      "Decission Tree: \n",
      "               precision    recall  f1-score   support\n",
      "\n",
      "     Hip-Hop       0.74      0.73      0.74       230\n",
      "        Rock       0.73      0.74      0.73       225\n",
      "\n",
      "    accuracy                           0.74       455\n",
      "   macro avg       0.74      0.74      0.74       455\n",
      "weighted avg       0.74      0.74      0.74       455\n",
      "\n",
      "Logistic Regression: \n",
      "               precision    recall  f1-score   support\n",
      "\n",
      "     Hip-Hop       0.84      0.80      0.82       230\n",
      "        Rock       0.80      0.85      0.83       225\n",
      "\n",
      "    accuracy                           0.82       455\n",
      "   macro avg       0.82      0.82      0.82       455\n",
      "weighted avg       0.82      0.82      0.82       455\n",
      "\n"
     ]
    }
   ],
   "source": [
    "print(\"Decission Tree: \\n\",classification_report(test_labels,pred_labels_tree))\n",
    "print(\"Logistic Regression: \\n\",classification_report(test_labels,pred_labels_log))"
   ]
  },
  {
   "cell_type": "markdown",
   "metadata": {},
   "source": [
    "###  Cross Validation on models"
   ]
  },
  {
   "cell_type": "code",
   "execution_count": 59,
   "metadata": {},
   "outputs": [],
   "source": [
    "from sklearn.model_selection import KFold,cross_val_score"
   ]
  },
  {
   "cell_type": "code",
   "execution_count": 60,
   "metadata": {},
   "outputs": [],
   "source": [
    "#Set up K-fol variable\n",
    "kf = KFold(10)\n",
    "tree = DecisionTreeClassifier(random_state=10)\n",
    "log = LogisticRegression(random_state=10)"
   ]
  },
  {
   "cell_type": "code",
   "execution_count": 61,
   "metadata": {},
   "outputs": [
    {
     "name": "stderr",
     "output_type": "stream",
     "text": [
      "C:\\Users\\Sadii\\Anaconda3\\lib\\site-packages\\sklearn\\linear_model\\logistic.py:432: FutureWarning: Default solver will be changed to 'lbfgs' in 0.22. Specify a solver to silence this warning.\n",
      "  FutureWarning)\n",
      "C:\\Users\\Sadii\\Anaconda3\\lib\\site-packages\\sklearn\\linear_model\\logistic.py:432: FutureWarning: Default solver will be changed to 'lbfgs' in 0.22. Specify a solver to silence this warning.\n",
      "  FutureWarning)\n",
      "C:\\Users\\Sadii\\Anaconda3\\lib\\site-packages\\sklearn\\linear_model\\logistic.py:432: FutureWarning: Default solver will be changed to 'lbfgs' in 0.22. Specify a solver to silence this warning.\n",
      "  FutureWarning)\n",
      "C:\\Users\\Sadii\\Anaconda3\\lib\\site-packages\\sklearn\\linear_model\\logistic.py:432: FutureWarning: Default solver will be changed to 'lbfgs' in 0.22. Specify a solver to silence this warning.\n",
      "  FutureWarning)\n",
      "C:\\Users\\Sadii\\Anaconda3\\lib\\site-packages\\sklearn\\linear_model\\logistic.py:432: FutureWarning: Default solver will be changed to 'lbfgs' in 0.22. Specify a solver to silence this warning.\n",
      "  FutureWarning)\n",
      "C:\\Users\\Sadii\\Anaconda3\\lib\\site-packages\\sklearn\\linear_model\\logistic.py:432: FutureWarning: Default solver will be changed to 'lbfgs' in 0.22. Specify a solver to silence this warning.\n",
      "  FutureWarning)\n",
      "C:\\Users\\Sadii\\Anaconda3\\lib\\site-packages\\sklearn\\linear_model\\logistic.py:432: FutureWarning: Default solver will be changed to 'lbfgs' in 0.22. Specify a solver to silence this warning.\n",
      "  FutureWarning)\n",
      "C:\\Users\\Sadii\\Anaconda3\\lib\\site-packages\\sklearn\\linear_model\\logistic.py:432: FutureWarning: Default solver will be changed to 'lbfgs' in 0.22. Specify a solver to silence this warning.\n",
      "  FutureWarning)\n",
      "C:\\Users\\Sadii\\Anaconda3\\lib\\site-packages\\sklearn\\linear_model\\logistic.py:432: FutureWarning: Default solver will be changed to 'lbfgs' in 0.22. Specify a solver to silence this warning.\n",
      "  FutureWarning)\n",
      "C:\\Users\\Sadii\\Anaconda3\\lib\\site-packages\\sklearn\\linear_model\\logistic.py:432: FutureWarning: Default solver will be changed to 'lbfgs' in 0.22. Specify a solver to silence this warning.\n",
      "  FutureWarning)\n"
     ]
    }
   ],
   "source": [
    "#Train the model using kfold\n",
    "tree_score = cross_val_score(tree,pca_projection,labels,cv=kf)\n",
    "log_score = cross_val_score(log,pca_projection,labels,cv=kf)"
   ]
  },
  {
   "cell_type": "code",
   "execution_count": 62,
   "metadata": {},
   "outputs": [
    {
     "name": "stdout",
     "output_type": "stream",
     "text": [
      "Decision Tree: 0.7489010989010989\n",
      "Logistic Regression 0.782967032967033\n"
     ]
    }
   ],
   "source": [
    "print('Decision Tree:',np.mean(tree_score))\n",
    "print('Logistic Regression',np.mean(log_score))"
   ]
  },
  {
   "cell_type": "code",
   "execution_count": null,
   "metadata": {},
   "outputs": [],
   "source": []
  }
 ],
 "metadata": {
  "kernelspec": {
   "display_name": "Python 3",
   "language": "python",
   "name": "python3"
  },
  "language_info": {
   "codemirror_mode": {
    "name": "ipython",
    "version": 3
   },
   "file_extension": ".py",
   "mimetype": "text/x-python",
   "name": "python",
   "nbconvert_exporter": "python",
   "pygments_lexer": "ipython3",
   "version": "3.7.4"
  }
 },
 "nbformat": 4,
 "nbformat_minor": 2
}
